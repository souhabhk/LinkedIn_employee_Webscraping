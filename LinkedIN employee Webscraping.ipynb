{
 "cells": [
  {
   "cell_type": "code",
   "execution_count": 1,
   "metadata": {},
   "outputs": [],
   "source": [
    "import requests\n",
    "import bs4\n",
    "from bs4 import BeautifulSoup\n",
    "import re\n",
    "from urllib.parse import urlparse\n",
    "import pandas as pd\n",
    "import time\n",
    "from time import sleep\n",
    "from mechanize import Browser\n",
    "import json\n",
    "import csv\n",
    "from parsel import Selector\n"
   ]
  },
  {
   "cell_type": "code",
   "execution_count": 2,
   "metadata": {},
   "outputs": [
    {
     "name": "stderr",
     "output_type": "stream",
     "text": [
      "Progress:  67%|█████████████████████████████████████████████▎                      | 133.4/200 [00:20<00:02, 23.55it/s]"
     ]
    },
    {
     "data": {
      "text/plain": [
       "{'body': {},\n",
       " 'errors': [],\n",
       " 'resume_variable': '0',\n",
       " 'success_score': '100',\n",
       " 'resume_dict': {}}"
      ]
     },
     "execution_count": 2,
     "metadata": {},
     "output_type": "execute_result"
    }
   ],
   "source": [
    "from bot_studio import *\n",
    "linkedin=bot_studio.linkedin()\n",
    "linkedin.login(email='your linkedin email', password='your linkedin password')"
   ]
  },
  {
   "cell_type": "code",
   "execution_count": 3,
   "metadata": {},
   "outputs": [
    {
     "name": "stdout",
     "output_type": "stream",
     "text": [
      "['Linkedin', 'https://www.linkedin.com/company/insurance-law-global/', 'https://www.linkedin.com/company/moonshot-insurance/', 'https://www.linkedin.com/company/koalainsurance/', 'https://www.linkedin.com/company/vermeg/', 'https://www.linkedin.com/company/finance-&-insurance/', 'https://www.linkedin.com/company/berkshire-hathaway-specialty-insurance/', 'https://www.linkedin.com/company/cegedim-insurance-solutions/', 'https://www.linkedin.com/company/miller-insurance-services-llp/', 'https://www.linkedin.com/company/ms-amlin-insurance/', 'https://www.linkedin.com/company/oleainsurancesolutionsafrica/', 'https://www.linkedin.com/company/helvetia-insurance-group/', 'https://www.linkedin.com/company/fri-day/', 'https://www.linkedin.com/company/cleva-gfi-informatique/', 'https://www.linkedin.com/company/aoc-insurance-broker/', 'https://www.linkedin.com/company/groupe-asqua-leader-assurances/', 'https://www.linkedin.com/company/otherwisefr/', 'https://www.linkedin.com/company/tokio-marine_2/', 'https://www.linkedin.com/company/cambiaso-risso-group/', 'https://www.linkedin.com/company/fortis-insurance-belgium/', 'https://www.linkedin.com/company/insurance-broking-international-service/', 'https://www.linkedin.com/company/insurance-premium/', 'https://www.linkedin.com/company/insurance-consulting-national/', 'https://www.linkedin.com/company/insurance-conseils/', 'https://www.linkedin.com/company/insurance-risk-management-consulting/', 'https://www.linkedin.com/company/insurance-for-our-future/', 'https://www.linkedin.com/company/insurance-risk-management-a.ccc-sarl/', 'https://www.linkedin.com/company/insurance-dom/', 'https://www.linkedin.com/company/mic-insurance-company/', 'https://www.linkedin.com/company/5169438/', 'https://www.linkedin.com/company/68841835/', 'https://www.linkedin.com/company/agoraexpat/', 'https://www.linkedin.com/company/nippon-export-and-investment-insurance-nexi/', 'https://www.linkedin.com/company/expatmedicare---your-medical-insurance-consultant-&-service-provider/', 'https://www.linkedin.com/company/onlyyacht/', 'https://www.linkedin.com/company/avesta-insurance-risk-solutions/', 'https://www.linkedin.com/company/vgm-innovative-insurance/', 'https://www.linkedin.com/company/insurangels-business-angels-for-insurance/', 'https://www.linkedin.com/company/i4ct/', 'https://www.linkedin.com/company/cali-europe/', 'https://www.linkedin.com/company/fort-insurance-international/', 'https://www.linkedin.com/company/axa/', 'https://www.linkedin.com/company/allianz/', 'https://www.linkedin.com/company/bnp-paribas/', 'https://www.linkedin.com/company/kms-solutions-kmse/', 'https://www.linkedin.com/company/societe-generale/', 'https://www.linkedin.com/company/axre-insurance/', 'https://www.linkedin.com/company/142450/', 'https://www.linkedin.com/company/pegase-insurance/', 'https://www.linkedin.com/company/credit-agricole/', 'https://www.linkedin.com/company/swiss-re/', 'https://www.linkedin.com/company/wminsurancebrokers/', 'https://www.linkedin.com/company/state-street/', 'https://www.linkedin.com/company/fti-consulting/', 'https://www.linkedin.com/company/robert-walters/', 'https://www.linkedin.com/company/wtwcorporate/', 'https://www.linkedin.com/company/huxley/', 'https://www.linkedin.com/company/devere-group/', 'https://www.linkedin.com/company/allen-&-overy/', 'https://www.linkedin.com/company/capco/', 'https://www.linkedin.com/company/shield-specialty-insurance/', 'https://www.linkedin.com/company/allianz-trade/', 'https://www.linkedin.com/company/vgroupmaritime/', 'https://www.linkedin.com/company/axa-france/', 'https://www.linkedin.com/company/sia-partners/', 'https://www.linkedin.com/company/10371941/', 'https://www.linkedin.com/company/dllgroup/', 'https://www.linkedin.com/company/dla-piper/', 'https://www.linkedin.com/company/ascot-insurance/', 'https://www.linkedin.com/company/cybercriminalit%C3%A9-insurance/', 'https://www.linkedin.com/company/11041284/', 'https://www.linkedin.com/company/reply/', 'https://www.linkedin.com/company/murex/', 'https://www.linkedin.com/company/bnp-paribas-cardif/', 'https://www.linkedin.com/company/allianz-partners/', 'https://www.linkedin.com/company/allsure-global-insurance-solutions/', 'https://www.linkedin.com/company/milliman/', 'https://www.linkedin.com/company/duck-creek-technologies/', 'https://www.linkedin.com/company/psi-insurance/', 'https://www.linkedin.com/company/bpce/', 'https://www.linkedin.com/company/ryan/', 'https://www.linkedin.com/company/cnp/', 'https://www.linkedin.com/company/iesfrance/', 'https://www.linkedin.com/company/eisgroupltd/', 'https://www.linkedin.com/company/insurance-partners-europe/', 'https://www.linkedin.com/company/numerix/', 'https://www.linkedin.com/company/sightcall/', 'https://www.linkedin.com/company/motorsport-insurance-at-miller-insurance-services-llp/', 'https://www.linkedin.com/company/opex-corporation/', 'https://www.linkedin.com/company/nityo-infotech/', 'https://www.linkedin.com/company/northrop-johnson/']\n"
     ]
    },
    {
     "name": "stderr",
     "output_type": "stream",
     "text": [
      "Progress: 100%|████████████████████████████████████████████████████████████████████| 200.0/200 [00:26<00:00,  7.65it/s]\n"
     ]
    }
   ],
   "source": [
    "# the list of companies to scrape their most imporatnt employees ( you can replace this with a list from your choice or their linkedin links )\n",
    "with open(r'C:\\Users\\user\\data30-06.csv',encoding='latin-1') as csvfile:\n",
    "    reader = csv.reader(csvfile)\n",
    "    urls = [row[1] for row in reader]\n",
    "print(urls)\n"
   ]
  },
  {
   "cell_type": "code",
   "execution_count": null,
   "metadata": {},
   "outputs": [
    {
     "name": "stderr",
     "output_type": "stream",
     "text": [
      "Progress: 100%|██████████████████████████████████████████████████████████████████████| 200/200 [00:04<00:00, 49.62it/s]\n",
      "Progress: 100%|██████████████████████████████████████████████████████████████████████| 200/200 [00:04<00:00, 49.71it/s]\n",
      "Progress: 100%|██████████████████████████████████████████████████████████████████████| 200/200 [00:04<00:00, 49.55it/s]\n",
      "Progress: 100%|██████████████████████████████████████████████████████████████████████| 200/200 [00:06<00:00, 33.08it/s]\n",
      "Progress: 100%|██████████████████████████████████████████████████████████████████████| 200/200 [00:06<00:00, 33.03it/s]\n",
      "Progress: 100%|██████████████████████████████████████████████████████████████████████| 200/200 [00:04<00:00, 49.74it/s]\n",
      "Progress: 100%|██████████████████████████████████████████████████████████████████████| 200/200 [00:06<00:00, 33.16it/s]\n",
      "Progress: 100%|██████████████████████████████████████████████████████████████████████| 200/200 [00:06<00:00, 33.11it/s]\n",
      "Progress:   0%|                                                                                | 0/200 [00:00<?, ?it/s]"
     ]
    },
    {
     "name": "stdout",
     "output_type": "stream",
     "text": [
      "insurance-law-global\n"
     ]
    },
    {
     "name": "stderr",
     "output_type": "stream",
     "text": [
      "Progress: 100%|██████████████████████████████████████████████████████████████████████| 200/200 [00:06<00:00, 33.16it/s]\n",
      "Progress: 100%|██████████████████████████████████████████████████████████████████████| 200/200 [00:02<00:00, 99.44it/s]\n",
      "Progress: 100%|██████████████████████████████████████████████████████████████████████| 200/200 [00:02<00:00, 99.17it/s]\n",
      "Progress: 100%|██████████████████████████████████████████████████████████████████████| 200/200 [00:02<00:00, 99.23it/s]\n",
      "Progress: 100%|██████████████████████████████████████████████████████████████████████| 200/200 [00:02<00:00, 99.29it/s]\n",
      "Progress: 100%|██████████████████████████████████████████████████████████████████████| 200/200 [00:02<00:00, 98.61it/s]\n",
      "Progress: 100%|██████████████████████████████████████████████████████████████████████| 200/200 [00:02<00:00, 99.11it/s]\n",
      "Progress: 100%|██████████████████████████████████████████████████████████████████████| 200/200 [00:02<00:00, 99.64it/s]\n",
      "Progress: 100%|██████████████████████████████████████████████████████████████████████| 200/200 [00:02<00:00, 98.96it/s]\n"
     ]
    },
    {
     "name": "stdout",
     "output_type": "stream",
     "text": [
      "{'name': 'Drexel B. HarrisView Drexel B. Harris’ profile', 'profile_link': 'https://www.linkedin.com/in/drexelbharris?miniProfileUrn=urn%3Ali%3Afs_miniProfile%3AACoAAAGFiSABzUwaXC3ABhlRZi-yoqrfjJmZRkg', 'degree': '• 3rd+3rd+ degree connection', 'headline': 'Harris Insurance Law - focused and responsive counsel for the P&C insurer', 'location': 'New York, NY', 'summary': 'Current: Owner at Harris Insurance Law'}\n",
      "{'name': 'Tim Esden, IRMCertView Tim Esden, IRMCert’s profile', 'profile_link': 'https://www.linkedin.com/in/tim-esden?miniProfileUrn=urn%3Ali%3Afs_miniProfile%3AACoAAAYwbIwBdokY7260dZ11luo2oZnpjtWnXOM', 'degree': '• 3rd+3rd+ degree connection', 'headline': 'Global Head of Insurance @ Falcon Group', 'location': 'City of London', 'summary': 'Current: Global Head of Insurance at Falcon Group'}\n",
      "{'name': 'Mark D. MillerView Mark D. Miller’s profile', 'profile_link': 'https://www.linkedin.com/in/mark-d-miller-854bab18?miniProfileUrn=urn%3Ali%3Afs_miniProfile%3AACoAAAO8fQABEtO39HEPI_dFKn17vMvh05znvHI', 'degree': '• 3rd+3rd+ degree connection', 'headline': 'Assistant Vice President of at Brit Global Specialty Insurance', 'location': 'Tolland, CT', 'summary': 'Current: Assistant Vice President of Claims at Brit Global Specialty Insurance'}\n",
      "moonshot-insurance\n"
     ]
    },
    {
     "name": "stderr",
     "output_type": "stream",
     "text": [
      "Progress: 100%|██████████████████████████████████████████████████████████████████████| 200/200 [00:02<00:00, 99.66it/s]\n",
      "Progress: 100%|██████████████████████████████████████████████████████████████████████| 200/200 [00:02<00:00, 99.44it/s]\n",
      "Progress: 100%|██████████████████████████████████████████████████████████████████████| 200/200 [00:02<00:00, 98.65it/s]\n",
      "Progress: 100%|██████████████████████████████████████████████████████████████████████| 200/200 [00:02<00:00, 99.24it/s]\n",
      "Progress: 100%|██████████████████████████████████████████████████████████████████████| 200/200 [00:02<00:00, 99.22it/s]\n",
      "Progress: 100%|██████████████████████████████████████████████████████████████████████| 200/200 [00:02<00:00, 99.54it/s]\n",
      "Progress: 100%|██████████████████████████████████████████████████████████████████████| 200/200 [00:02<00:00, 99.55it/s]\n",
      "Progress: 100%|██████████████████████████████████████████████████████████████████████| 200/200 [00:02<00:00, 99.69it/s]\n",
      "Progress: 100%|██████████████████████████████████████████████████████████████████████| 200/200 [00:02<00:00, 99.76it/s]\n"
     ]
    },
    {
     "name": "stdout",
     "output_type": "stream",
     "text": [
      "{'name': 'Tidiane CISSEView Tidiane CISSE’s profile', 'profile_link': 'https://www.linkedin.com/in/tidiane-cisse-9b853616?miniProfileUrn=urn%3Ali%3Afs_miniProfile%3AACoAAANIPRwBT63XG4lWaI579aNWjZk9Af1ZD0A', 'degree': '• 3rd+3rd+ degree connection', 'headline': 'Chief Analytics and Finance officer', 'location': 'France', 'summary': 'Current: Chief Analytics and Finance officer at Moonshot-Internet'}\n",
      "{'name': 'Laurent LeconteView Laurent Leconte’s profile', 'profile_link': 'https://www.linkedin.com/in/laurent-leconte?miniProfileUrn=urn%3Ali%3Afs_miniProfile%3AACoAAADhKKEBeuzA9xvuAd1PP9Al7l1CSgKxPbI', 'degree': '• 3rd+3rd+ degree connection', 'headline': 'Chief Technical Officer & Co-founder, Susu', 'location': 'Paris', 'summary': 'Past: CTO at Moonshot Insurance'}\n",
      "{'name': 'Marie HUYGHUES-BEAUFONDView Marie HUYGHUES-BEAUFOND’s profile', 'profile_link': 'https://www.linkedin.com/in/marie-huyghues-beaufond-04bb6544?miniProfileUrn=urn%3Ali%3Afs_miniProfile%3AACoAAAltC_sB5ot5yXHzjX6xfSHV-dTCkbnEKLY', 'degree': '• 3rd+3rd+ degree connection', 'headline': \"Experte Prévoyance - Actuaire Certifiée par l'Institut des Actuaires\", 'location': 'Paris', 'summary': 'Past: Head of Actuarial Science and Data Science Moonshot-Insurance at Société Générale Assurances'}\n",
      "koalainsurance\n"
     ]
    },
    {
     "name": "stderr",
     "output_type": "stream",
     "text": [
      "Progress: 100%|██████████████████████████████████████████████████████████████████████| 200/200 [00:02<00:00, 99.69it/s]\n",
      "Progress: 100%|██████████████████████████████████████████████████████████████████████| 200/200 [00:02<00:00, 99.36it/s]\n",
      "Progress: 100%|██████████████████████████████████████████████████████████████████████| 200/200 [00:02<00:00, 99.47it/s]\n",
      "Progress: 100%|██████████████████████████████████████████████████████████████████████| 200/200 [00:04<00:00, 49.80it/s]\n",
      "Progress: 100%|██████████████████████████████████████████████████████████████████████| 200/200 [00:02<00:00, 99.39it/s]\n",
      "Progress: 100%|██████████████████████████████████████████████████████████████████████| 200/200 [00:04<00:00, 49.73it/s]\n",
      "Progress: 100%|██████████████████████████████████████████████████████████████████████| 200/200 [00:02<00:00, 99.41it/s]\n",
      "Progress: 100%|██████████████████████████████████████████████████████████████████████| 200/200 [00:02<00:00, 99.45it/s]\n",
      "Progress: 100%|██████████████████████████████████████████████████████████████████████| 200/200 [00:02<00:00, 99.36it/s]\n",
      "Progress:   0%|                                                                                | 0/200 [00:00<?, ?it/s]"
     ]
    },
    {
     "name": "stdout",
     "output_type": "stream",
     "text": [
      "vermeg\n"
     ]
    },
    {
     "name": "stderr",
     "output_type": "stream",
     "text": [
      "Progress: 100%|██████████████████████████████████████████████████████████████████████| 200/200 [00:02<00:00, 99.33it/s]\n",
      "Progress: 100%|██████████████████████████████████████████████████████████████████████| 200/200 [00:04<00:00, 49.64it/s]\n",
      "Progress: 100%|██████████████████████████████████████████████████████████████████████| 200/200 [00:04<00:00, 49.69it/s]\n",
      "Progress: 100%|██████████████████████████████████████████████████████████████████████| 200/200 [00:02<00:00, 99.19it/s]\n",
      "Progress: 100%|██████████████████████████████████████████████████████████████████████| 200/200 [00:02<00:00, 99.61it/s]\n",
      "Progress: 100%|██████████████████████████████████████████████████████████████████████| 200/200 [00:02<00:00, 99.03it/s]\n",
      "Progress: 100%|██████████████████████████████████████████████████████████████████████| 200/200 [00:02<00:00, 99.60it/s]\n",
      "Progress: 100%|██████████████████████████████████████████████████████████████████████| 200/200 [00:04<00:00, 49.83it/s]\n",
      "Progress: 100%|██████████████████████████████████████████████████████████████████████| 200/200 [00:02<00:00, 99.69it/s]\n"
     ]
    },
    {
     "name": "stdout",
     "output_type": "stream",
     "text": [
      "{'name': 'Imed Ben MimounView Imed Ben Mimoun’s profile', 'profile_link': 'https://www.linkedin.com/in/imed-ben-mimoun-0978601a?miniProfileUrn=urn%3Ali%3Afs_miniProfile%3AACoAAAQKpnMBzZyc3aZ04gGs1ABZbXP_uVPOYLI', 'degree': '• 2nd2nd degree connection', 'headline': 'Executive Director at Vermeg', 'location': 'Tunis, Tunisia', 'summary': 'Current: Director at Vermeg'}\n",
      "finance-&-insurance\n"
     ]
    },
    {
     "name": "stderr",
     "output_type": "stream",
     "text": [
      "Progress: 100%|██████████████████████████████████████████████████████████████████████| 200/200 [00:02<00:00, 99.11it/s]\n",
      "Progress: 100%|██████████████████████████████████████████████████████████████████████| 200/200 [00:02<00:00, 99.46it/s]\n",
      "Progress: 100%|██████████████████████████████████████████████████████████████████████| 200/200 [00:02<00:00, 99.22it/s]\n",
      "Progress: 100%|██████████████████████████████████████████████████████████████████████| 200/200 [00:02<00:00, 99.28it/s]\n",
      "Progress: 100%|██████████████████████████████████████████████████████████████████████| 200/200 [00:02<00:00, 99.21it/s]\n",
      "Progress: 100%|██████████████████████████████████████████████████████████████████████| 200/200 [00:02<00:00, 98.83it/s]\n",
      "Progress: 100%|██████████████████████████████████████████████████████████████████████| 200/200 [00:02<00:00, 99.51it/s]\n",
      "Progress: 100%|██████████████████████████████████████████████████████████████████████| 200/200 [00:04<00:00, 49.80it/s]\n",
      "Progress: 100%|██████████████████████████████████████████████████████████████████████| 200/200 [00:04<00:00, 49.65it/s]\n",
      "Progress:   0%|                                                                                | 0/200 [00:00<?, ?it/s]"
     ]
    },
    {
     "name": "stdout",
     "output_type": "stream",
     "text": [
      "berkshire-hathaway-specialty-insurance\n"
     ]
    },
    {
     "name": "stderr",
     "output_type": "stream",
     "text": [
      "Progress: 100%|██████████████████████████████████████████████████████████████████████| 200/200 [00:08<00:00, 24.79it/s]\n",
      "Progress: 100%|██████████████████████████████████████████████████████████████████████| 200/200 [00:04<00:00, 49.68it/s]\n",
      "Progress: 100%|██████████████████████████████████████████████████████████████████████| 200/200 [00:02<00:00, 99.20it/s]\n",
      "Progress: 100%|██████████████████████████████████████████████████████████████████████| 200/200 [00:02<00:00, 99.52it/s]\n",
      "Progress: 100%|██████████████████████████████████████████████████████████████████████| 200/200 [00:04<00:00, 49.77it/s]\n",
      "Progress: 100%|██████████████████████████████████████████████████████████████████████| 200/200 [00:04<00:00, 49.62it/s]\n",
      "Progress: 100%|██████████████████████████████████████████████████████████████████████| 200/200 [00:04<00:00, 49.72it/s]\n",
      "Progress: 100%|██████████████████████████████████████████████████████████████████████| 200/200 [00:04<00:00, 49.64it/s]\n",
      "Progress: 100%|██████████████████████████████████████████████████████████████████████| 200/200 [00:04<00:00, 49.56it/s]\n",
      "Progress:   0%|                                                                                | 0/200 [00:00<?, ?it/s]"
     ]
    },
    {
     "name": "stdout",
     "output_type": "stream",
     "text": [
      "{'name': 'Camille LucianiView Camille Luciani’s profile', 'profile_link': 'https://www.linkedin.com/in/camille-luciani-a606a445?miniProfileUrn=urn%3Ali%3Afs_miniProfile%3AACoAAAmI4ugBmPzRAkjHf5eWq8BfQ7MlExfqqQA', 'degree': '• 3rd+3rd+ degree connection', 'headline': 'Directrice commerciale chez Berkshire Hathaway Specialty Insurance', 'location': 'Greater Paris Metropolitan Region', 'summary': 'Current: Directrice commerciale at Berkshire Hathaway Specialty Insurance'}\n",
      "cegedim-insurance-solutions\n"
     ]
    },
    {
     "name": "stderr",
     "output_type": "stream",
     "text": [
      "Progress: 100%|██████████████████████████████████████████████████████████████████████| 200/200 [00:04<00:00, 49.49it/s]\n",
      "Progress: 100%|██████████████████████████████████████████████████████████████████████| 200/200 [00:04<00:00, 49.71it/s]\n",
      "Progress: 100%|██████████████████████████████████████████████████████████████████████| 200/200 [00:02<00:00, 99.10it/s]\n",
      "Progress: 100%|██████████████████████████████████████████████████████████████████████| 200/200 [00:02<00:00, 99.12it/s]\n",
      "Progress: 100%|██████████████████████████████████████████████████████████████████████| 200/200 [00:04<00:00, 49.80it/s]\n",
      "Progress: 100%|██████████████████████████████████████████████████████████████████████| 200/200 [00:04<00:00, 49.54it/s]\n",
      "Progress: 100%|██████████████████████████████████████████████████████████████████████| 200/200 [00:02<00:00, 99.55it/s]\n",
      "Progress: 100%|██████████████████████████████████████████████████████████████████████| 200/200 [00:04<00:00, 49.70it/s]\n",
      "Progress: 100%|██████████████████████████████████████████████████████████████████████| 200/200 [00:02<00:00, 99.62it/s]\n",
      "Progress:   0%|                                                                                | 0/200 [00:00<?, ?it/s]"
     ]
    },
    {
     "name": "stdout",
     "output_type": "stream",
     "text": [
      "{'name': 'Gimenez MarcView Gimenez Marc’s profile', 'profile_link': 'https://www.linkedin.com/in/gimenez-marc-508b07b8?miniProfileUrn=urn%3Ali%3Afs_miniProfile%3AACoAABkUthgBFjxGSYk-No-nJxrMhi8UVCnxNB4', 'degree': '• 3rd+3rd+ degree connection', 'headline': \"Responsable d'activité chez Cegedim Insurance Solutions\", 'location': 'Greater Toulouse Metropolitan Area', 'summary': \"Current: Responsable d'activité at Cegedim Insurance Solutions\"}\n",
      "{'name': 'Stéphane MAGNANIView Stéphane MAGNANI’s profile', 'profile_link': 'https://www.linkedin.com/in/st%C3%A9phane-magnani-810aa817?miniProfileUrn=urn%3Ali%3Afs_miniProfile%3AACoAAAOLDIwBJPHoMDwAXQmSGHBMY1D4eK7Es8U', 'degree': '• 3rd+3rd+ degree connection', 'headline': 'Directeur R&D chez Cegedim Insurance Solutions', 'location': 'Greater Toulouse Metropolitan Area', 'summary': 'Current: Directeur Edition / developpement at Cegedim Insurance Solutions'}\n",
      "miller-insurance-services-llp\n"
     ]
    },
    {
     "name": "stderr",
     "output_type": "stream",
     "text": [
      "Progress: 100%|██████████████████████████████████████████████████████████████████████| 200/200 [00:04<00:00, 49.69it/s]\n",
      "Progress: 100%|██████████████████████████████████████████████████████████████████████| 200/200 [00:06<00:00, 32.99it/s]\n",
      "Progress: 100%|██████████████████████████████████████████████████████████████████████| 200/200 [00:04<00:00, 49.65it/s]\n",
      "Progress: 100%|██████████████████████████████████████████████████████████████████████| 200/200 [00:04<00:00, 49.75it/s]\n",
      "Progress: 100%|██████████████████████████████████████████████████████████████████████| 200/200 [00:02<00:00, 98.92it/s]\n",
      "Progress: 100%|██████████████████████████████████████████████████████████████████████| 200/200 [00:04<00:00, 49.41it/s]\n",
      "Progress: 100%|██████████████████████████████████████████████████████████████████████| 200/200 [00:04<00:00, 49.69it/s]\n",
      "Progress: 100%|██████████████████████████████████████████████████████████████████████| 200/200 [00:04<00:00, 49.60it/s]\n",
      "Progress: 100%|██████████████████████████████████████████████████████████████████████| 200/200 [00:04<00:00, 49.87it/s]\n",
      "Progress:   0%|                                                                                | 0/200 [00:00<?, ?it/s]"
     ]
    },
    {
     "name": "stdout",
     "output_type": "stream",
     "text": [
      "{'name': 'Jason Baston 🏗️View Jason Baston 🏗️’s profile', 'profile_link': 'https://www.linkedin.com/in/jason-baston?miniProfileUrn=urn%3Ali%3Afs_miniProfile%3AACoAAAuBAaUBisbHdHy6_N0ngaRA49VRNeJXsIA', 'degree': '• 3rd+3rd+ degree connection', 'headline': 'Head of Client Development for Construction, Renewables, Infrastructure & Surety at Miller | MSc, CMgr FCMI, DipCII | Risk and Insurance Expert | CMI Fellow | ESG Committee | School Governor | CII Council', 'location': 'Norwich', 'summary': 'Current: Head of Client Development at Miller Insurance Services LLP'}\n",
      "ms-amlin-insurance\n"
     ]
    },
    {
     "name": "stderr",
     "output_type": "stream",
     "text": [
      "Progress: 100%|██████████████████████████████████████████████████████████████████████| 200/200 [00:04<00:00, 49.69it/s]\n",
      "Progress: 100%|██████████████████████████████████████████████████████████████████████| 200/200 [00:04<00:00, 49.79it/s]\n",
      "Progress: 100%|██████████████████████████████████████████████████████████████████████| 200/200 [00:04<00:00, 49.82it/s]\n",
      "Progress: 100%|██████████████████████████████████████████████████████████████████████| 200/200 [00:06<00:00, 33.18it/s]\n",
      "Progress: 100%|██████████████████████████████████████████████████████████████████████| 200/200 [00:06<00:00, 32.98it/s]\n",
      "Progress: 100%|██████████████████████████████████████████████████████████████████████| 200/200 [00:04<00:00, 49.52it/s]\n",
      "Progress: 100%|██████████████████████████████████████████████████████████████████████| 200/200 [00:06<00:00, 33.18it/s]\n",
      "Progress: 100%|██████████████████████████████████████████████████████████████████████| 200/200 [00:04<00:00, 49.62it/s]\n",
      "Progress: 100%|██████████████████████████████████████████████████████████████████████| 200/200 [00:04<00:00, 49.63it/s]\n",
      "Progress:   0%|                                                                                | 0/200 [00:00<?, ?it/s]"
     ]
    },
    {
     "name": "stdout",
     "output_type": "stream",
     "text": [
      "{'name': 'Muriel AtlanView Muriel Atlan’s profile', 'profile_link': 'https://www.linkedin.com/in/atlanmuriel?miniProfileUrn=urn%3Ali%3Afs_miniProfile%3AACoAAABSyJEB6WQgyzkJwx7JRIag6-HugydsDIY', 'degree': '• 3rd+3rd+ degree connection', 'headline': 'Head of IT - AMLIN Insurance SE (MS AISE)', 'location': 'Greater Paris Metropolitan Region', 'summary': 'Current: Head of IT - AMLIN Insurance SE (MS AISE) at MS Amlin'}\n",
      "{'name': 'Herbert BaetenView Herbert Baeten’s profile', 'profile_link': 'https://www.linkedin.com/in/herbert-baeten-4638606?miniProfileUrn=urn%3Ali%3Afs_miniProfile%3AACoAAAExqIsBiMKKQb7h7MjDqfvhay3rxHGwzBg', 'degree': '• 3rd+3rd+ degree connection', 'headline': 'Chief Underwriting Officer P&C MS AISE bij MS Amlin', 'location': 'Leuven', 'summary': 'Current: Chief Underwriting Officer P&C MS AISE at MS Amlin Insurance'}\n",
      "oleainsurancesolutionsafrica\n"
     ]
    },
    {
     "name": "stderr",
     "output_type": "stream",
     "text": [
      "Progress: 100%|██████████████████████████████████████████████████████████████████████| 200/200 [00:06<00:00, 33.12it/s]\n",
      "Progress: 100%|██████████████████████████████████████████████████████████████████████| 200/200 [00:06<00:00, 33.22it/s]\n",
      "Progress: 100%|██████████████████████████████████████████████████████████████████████| 200/200 [00:04<00:00, 49.64it/s]\n",
      "Progress: 100%|██████████████████████████████████████████████████████████████████████| 200/200 [00:04<00:00, 49.66it/s]\n",
      "Progress: 100%|██████████████████████████████████████████████████████████████████████| 200/200 [00:04<00:00, 49.55it/s]\n",
      "Progress: 100%|██████████████████████████████████████████████████████████████████████| 200/200 [00:08<00:00, 24.87it/s]\n",
      "Progress: 100%|██████████████████████████████████████████████████████████████████████| 200/200 [00:04<00:00, 49.51it/s]\n",
      "Progress: 100%|██████████████████████████████████████████████████████████████████████| 200/200 [00:06<00:00, 33.07it/s]\n",
      "Progress: 100%|██████████████████████████████████████████████████████████████████████| 200/200 [00:08<00:00, 24.84it/s]\n",
      "Progress:   0%|                                                                                | 0/200 [00:00<?, ?it/s]"
     ]
    },
    {
     "name": "stdout",
     "output_type": "stream",
     "text": [
      "helvetia-insurance-group\n"
     ]
    },
    {
     "name": "stderr",
     "output_type": "stream",
     "text": [
      "Progress: 100%|██████████████████████████████████████████████████████████████████████| 200/200 [00:04<00:00, 49.86it/s]\n",
      "Progress: 100%|██████████████████████████████████████████████████████████████████████| 200/200 [00:04<00:00, 49.57it/s]\n",
      "Progress: 100%|██████████████████████████████████████████████████████████████████████| 200/200 [00:02<00:00, 99.04it/s]\n",
      "Progress: 100%|██████████████████████████████████████████████████████████████████████| 200/200 [00:04<00:00, 49.72it/s]\n",
      "Progress: 100%|██████████████████████████████████████████████████████████████████████| 200/200 [00:02<00:00, 98.96it/s]\n",
      "Progress: 100%|██████████████████████████████████████████████████████████████████████| 200/200 [00:02<00:00, 99.38it/s]\n",
      "Progress: 100%|██████████████████████████████████████████████████████████████████████| 200/200 [00:04<00:00, 49.74it/s]\n",
      "Progress:   0%|                                                                                | 0/200 [00:00<?, ?it/s]"
     ]
    }
   ],
   "source": [
    "with open('test_data.csv', mode='a', newline='', encoding=\"ISO-8859-1\", errors='ignore') as csv_file:\n",
    "    headers = [ 'Company Linkedin','Company Name',  'Name','Job Title', 'Location', 'Profile URL']\n",
    "    writer = csv.writer(csv_file)\n",
    "    writer.writerow(headers)\n",
    "    \n",
    "    for company_link in urls:\n",
    "        if \"/\" in company_link:\n",
    "            company_name = company_link.split(\"/\")[-2]\n",
    "            print(company_name)\n",
    "            linkedin_link = f\"https://www.linkedin.com/search/results/people/?keywords={company_name}&origin=CLUSTER_EXPANSION&sid=YV6\"\n",
    "        i=0\n",
    "        profile_data = []\n",
    "        for i in range (9):\n",
    "            try:\n",
    "                linkedin.open(linkedin_link)\n",
    "                time.sleep(5)\n",
    "                src = linkedin.get_page_source()\n",
    "                soup = BeautifulSoup(src, 'lxml')\n",
    "                info_type=soup.find_all(\"dt\")\n",
    "                infos=soup.find_all(\"dd\")\n",
    "                soup = BeautifulSoup(src, 'html.parser')\n",
    "                for entity in soup.find_all(\"div\", class_=\"entity-result__content\"):\n",
    "                    data = {}\n",
    "                    data['name'] = entity.find(\"a\", class_=\"app-aware-link\").get_text().strip()\n",
    "                    data['profile_link'] = entity.find(\"a\", class_=\"app-aware-link\")['href']\n",
    "                    data['degree'] = entity.find(\"span\", class_=\"image-text-lockup__text\").get_text().strip()\n",
    "                    data['headline'] = entity.find(\"div\", class_=\"entity-result__primary-subtitle\").get_text().strip()\n",
    "                    data['location'] = entity.find(\"div\", class_=\"entity-result__secondary-subtitle\").get_text().strip()\n",
    "                    data['summary'] = entity.find(\"p\", class_=\"entity-result__summary\").get_text().strip()\n",
    "                    profile_data.append(data)\n",
    "            except:\n",
    "                pass\n",
    "            linkedin.scroll()\n",
    "            linkedin.click_next()\n",
    "            i+=1\n",
    "            linkedin_link = linkedin.get_current_url()\n",
    "        #set your roles you want to check for \n",
    "        keywords = [\"CEO\",\"Head of\",\"Directrice\",\"Director\",\"HR\" \"Founder\",\"Owner\", \"Chef\", \"CTO\", \"Chief\", \"Executive\", \"Partner\", \"Director\", \"Vice President\", \"Directeur\", \"Fondateur\", \"DGA\", \"PDG\", \"RH\", \"Responsable\"]\n",
    "        peeps=[]\n",
    "        for profile in profile_data:\n",
    "            headline = profile['summary']\n",
    "            if any(keyword in headline for keyword in keywords):\n",
    "                print(profile)\n",
    "                name = profile.get('name', 'N/A')\n",
    "                job_title = profile.get('summary', 'N/A')\n",
    "                location = profile.get('location', 'N/A')\n",
    "                link_profile = profile.get('profile_link', 'N/A')\n",
    "                data = [company_link, company_name, name,job_title, location,link_profile ]\n",
    "                writer.writerow(data)\n"
   ]
  }
 ],
 "metadata": {
  "kernelspec": {
   "display_name": "Python 3 (ipykernel)",
   "language": "python",
   "name": "python3"
  },
  "language_info": {
   "codemirror_mode": {
    "name": "ipython",
    "version": 3
   },
   "file_extension": ".py",
   "mimetype": "text/x-python",
   "name": "python",
   "nbconvert_exporter": "python",
   "pygments_lexer": "ipython3",
   "version": "3.9.13"
  }
 },
 "nbformat": 4,
 "nbformat_minor": 2
}
